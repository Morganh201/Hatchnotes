{
 "cells": [
  {
   "cell_type": "markdown",
   "id": "2eb43bda",
   "metadata": {},
   "source": [
    "# Time Series Analysis"
   ]
  },
  {
   "cell_type": "markdown",
   "id": "9727ee73",
   "metadata": {},
   "source": [
    "By definition, a time series is a sequence of observations that are recorded at regular time intervals. We analyze time series and build time series models to forecast future values of the target variable based on time, i.e. how previous historical target variable values affect the future target variable values."
   ]
  },
  {
   "cell_type": "code",
   "execution_count": null,
   "id": "c205ded8",
   "metadata": {},
   "outputs": [],
   "source": [
    "# We usually want time as the index of the DataFrame\n",
    "\n",
    "import pandas as pd\n",
    "\n",
    "df = pd.read_csv(\"file.csv\", index_col=\"time\", parse_dates=[0]) # parse_dates to ensure that index is datetime object"
   ]
  },
  {
   "cell_type": "code",
   "execution_count": null,
   "id": "e4eaf093",
   "metadata": {},
   "outputs": [],
   "source": [
    "# To graph a time series, we can simply plot the series data, as long as the index of series is time\n",
    "\n",
    "from matplotlib import pyplot as plt\n",
    "\n",
    "plt.plot(df['y_value'])"
   ]
  },
  {
   "cell_type": "code",
   "execution_count": null,
   "id": "5394dee2",
   "metadata": {},
   "outputs": [],
   "source": [
    "# We can graph the trend of the time series by grouping the data by month, year, etc. We can graph them using box plots or\n",
    "# line graphs\n",
    "\n",
    "def create_df(column, value, df):\n",
    "    return df.loc[df[column] == value]\n",
    "\n",
    "hour = [i for i in range(24)]\n",
    "hour_df = []\n",
    "\n",
    "for i in range(24):\n",
    "    hour_df.append(create_df('Hour', i, df))\n",
    "\n",
    "plt.boxplot(hour_df, labels=hour)"
   ]
  },
  {
   "cell_type": "markdown",
   "id": "c2000987",
   "metadata": {},
   "source": [
    "A time series can be split into different components: a base level, a trend, seasonality, and the error/residual term. The trend of a time series is an increase or decrease over a period of time, and the seasonality of the time series is defined to be a pattern of increasing or decreasing values that is reoccuring due to seasonal events. A time series may also have a cyclic behaviour, which is when the rise and fall patterns occur not in fixed calendar-based intervals. Usually, cyclic behaviour occurs due to business or socio economic factors, and not due to seasonal events. "
   ]
  },
  {
   "cell_type": "markdown",
   "id": "daf30929",
   "metadata": {},
   "source": [
    "To split the time series into those different components, we model the time series either as an additive or a multiplicative time series, based on the following formulas: $$avalue = base level + trend + seasonality + error$$ $$mvalue = base level * trend * seasonality * error$$"
   ]
  },
  {
   "cell_type": "code",
   "execution_count": null,
   "id": "47b8f8ee",
   "metadata": {},
   "outputs": [],
   "source": [
    "from statsmodels.tsa.seasonal import seasonal_decompose\n",
    "\n",
    "# Multiplicative Decomposition, extrapolate_trend='freq' to deal with missing timed values, period=365*24 signifying \n",
    "# time series is hourly \n",
    "result_mul = seasonal_decompose(df['value'], model='multiplicative', extrapolate_trend='freq', period=365 * 24)\n",
    "\n",
    "# Additive Decomposition\n",
    "result_add = seasonal_decompose(df['value'], model='additive', extrapolate_trend='freq', period=365 * 24)\n",
    "\n",
    "# Plot\n",
    "result_mul.plot().suptitle('Multiplicative Decompose', fontsize=22)\n",
    "result_add.plot().suptitle('Additive Decompose', fontsize=22)\n",
    "plt.show()"
   ]
  },
  {
   "cell_type": "code",
   "execution_count": null,
   "id": "5aca8721",
   "metadata": {},
   "outputs": [],
   "source": [
    "# Decomposed multiplicative time series in DataFrame\n",
    "\n",
    "df_reconstructed = pd.concat([result_mul.seasonal, result_mul.trend, result_mul.resid, result_mul.observed], axis=1)\n",
    "df_reconstructed.columns = ['seas', 'trend', 'resid', 'actual_values']\n",
    "df_reconstructed.head()"
   ]
  },
  {
   "cell_type": "markdown",
   "id": "ef5cfd31",
   "metadata": {},
   "source": [
    "### Impute Missing Values in Time Series"
   ]
  },
  {
   "cell_type": "markdown",
   "id": "459c17a5",
   "metadata": {},
   "source": [
    "If we have missing values in our time series dataset, there are a couple of ways to impute these values. Using the mean and median is not recommended as this discounts the trend and seasonality of the dataset. Thus, we can either use forward fill, backwards fill, or we can use interpolation techniques such as linear and spline interpolation."
   ]
  },
  {
   "cell_type": "code",
   "execution_count": null,
   "id": "ddba6120",
   "metadata": {},
   "outputs": [],
   "source": [
    "# Forward fill, backwards fill\n",
    "df['value'] = df['value'].fillna(method='ffill')\n",
    "df['value'] = df['value'].fillna(method='bfill')\n",
    "\n",
    "# Linear interpolation, spline interpolation\n",
    "df['value'] = df['value'].interpolate(method='linear')\n",
    "df['value'] = df['value'].interpolate(method='spline')"
   ]
  },
  {
   "cell_type": "markdown",
   "id": "a6ebb2d2",
   "metadata": {},
   "source": [
    "### Stationary and Non-Stationary Time Series"
   ]
  },
  {
   "cell_type": "markdown",
   "id": "3b8f18c4",
   "metadata": {},
   "source": [
    "Stationarity is a property of time series. It follows that we would rather work with stationary time series, as many models are built around that property, since it is easier to predict future values with these types of time series. This is because in regression analysis, it follows that the values of the independent variable, whether categorical or quantitative, must be independent of each other in order for the analysis to be effective. This assumption holds for time series, where the lags must be independent of the current values. A stationary time series is a time series where the mean value stays constant throughout the series, has no occurance of seasonality(variance is constant), and its autocorrelation is constant(previous values has constant correlation with current values)."
   ]
  },
  {
   "cell_type": "markdown",
   "id": "e0e7d6f3",
   "metadata": {},
   "source": [
    "However, most time series will be non-stationary, thus we need to make the time series stationary in order for the time series to work in models. A common method to stationarize the series is through differencing the series until it becomes approximately stationary. So, we create a function $Z_t$, and define is as the difference between the current value and the previous value of lag 1: $Z_t = Y_t - Y_{t-1}$. If after the first differencing does not make the time series stationary, then we take the second difference $W_t$ such that $W_t = Z_t - Z_{t-1}$."
   ]
  },
  {
   "cell_type": "markdown",
   "id": "b8f919ee",
   "metadata": {},
   "source": [
    "To test for stationarity quantitatively, we use unit root tests, such as the ADFuller test, the KPSS test, and the PP test. In the ADFuller test, it follows that the null hypothesis states that the series possesses a unit root, thus if the p-value is less than 0.05, then we reject the null hypothesis and conclude that the time series is stationary. The KPSS test, however, has an opposite null hypothesis, where it states that the series is trend stationary, meaning that the series is stationary around the trend. The trend of a trend stationary time series can also be called a deterministic trend, and we can simply remove the trend from the series to get a stationary series. Thus, if the p-value is less than 0.05, then we reject the null hypothesis and conclude that the time series is non-stationary(it has a unit root)."
   ]
  },
  {
   "cell_type": "code",
   "execution_count": null,
   "id": "618ffd86",
   "metadata": {},
   "outputs": [],
   "source": [
    "from statsmodels.tsa.stattools import adfuller, kpss\n",
    "\n",
    "# ADFuller Test\n",
    "result = adfuller(df['value'])\n",
    "print(f'ADF Statistic: {result[0]}')\n",
    "print(f'p-value: {result[1]}')\n",
    "for key, value in result[4].items():\n",
    "    print('Critial Values:')\n",
    "    print(f'   {key}, {value}')\n",
    "    \n",
    "# KPSS Test\n",
    "result = kpss(df['value'])\n",
    "print('\\nKPSS Statistic: %f' % result[0])\n",
    "print('p-value: %f' % result[1])\n",
    "for key, value in result[3].items():\n",
    "    print('Critial Values:')\n",
    "    print(f'   {key}, {value}')"
   ]
  },
  {
   "cell_type": "markdown",
   "id": "928a0bfc",
   "metadata": {},
   "source": [
    "There are four cases when getting results from these tests.\n",
    "\n",
    "Case 1: If both tests infer that the series is not stationary, then it is not stationary\n",
    "\n",
    "Case 2: If both tests infer that the series is stationary, then it is stationary\n",
    "\n",
    "Case 3: If KPSS infers that series is stationary and ADFuller infers that series is non-stationary, then this means that the series has a deterministic trend, meaning that we simply have to remove the trend to stationalize the time series\n",
    "\n",
    "Case 4: If KPSS infers that series is non-stationary and ADFuller infers that series is stationary, then this means that the series is difference stationary, or has a stochastic trend, meaning that we can stationalize the series by differencing the series with respect to the degree D(the number of times to difference the time series)"
   ]
  },
  {
   "cell_type": "markdown",
   "id": "d091a759",
   "metadata": {},
   "source": [
    "### Detrend Time Series"
   ]
  },
  {
   "cell_type": "markdown",
   "id": "f2a2cbc8",
   "metadata": {},
   "source": [
    "To detrend the time series, we must know if the trend we are dealing with is deterministic or stochastic. If it is deterministic, then we simply subtract the trend from the time series either by subtracting the line of best fit, or the trend component derived from the time series decomposition."
   ]
  },
  {
   "cell_type": "code",
   "execution_count": null,
   "id": "51ed4dd4",
   "metadata": {},
   "outputs": [],
   "source": [
    "# Subtract the line of best fit\n",
    "from scipy import signal\n",
    "\n",
    "detrended = signal.detrend(df['value'])\n",
    "plt.plot(detrended)\n",
    "\n",
    "# Subtract the trend component from the series decomposition\n",
    "from statsmodels.tsa.seasonal import seasonal_decompose\n",
    "\n",
    "detrended = df['value'] - result_mul.trend # result_add.trend if using multiplicative time series decomposition\n",
    "plt.plot(detrended)"
   ]
  },
  {
   "cell_type": "markdown",
   "id": "9bc07f9f",
   "metadata": {},
   "source": [
    "If time series contains stochastic trend, then we apply differencing to the time series with respect to degree D."
   ]
  },
  {
   "cell_type": "code",
   "execution_count": null,
   "id": "367d9a97",
   "metadata": {},
   "outputs": [],
   "source": [
    "# Difference with degree 1\n",
    "\n",
    "df['value_diff'] = df['value'] - df['value'].shift(1)\n",
    "plt.plot(df['value_diff'])\n",
    "\n",
    "# Another method, difference with degree 2\n",
    "\n",
    "plt.plot(df['value'].diff().diff().dropna())"
   ]
  },
  {
   "cell_type": "markdown",
   "id": "a8497808",
   "metadata": {},
   "source": [
    "### Deseasonalize Time Series"
   ]
  },
  {
   "cell_type": "markdown",
   "id": "7c428b8c",
   "metadata": {},
   "source": [
    "There are a couple ways to deseasonalize time series. We can take a moving average in the seasonal time period, which will also smoothen the time series, we can take the seasonal difference, meaning that we subtract the current value from the previous season value, or we can divide the series by the seasonal values obtained from the time series decomposition. If we cannot divide the seasonal values, we can take the log of the series first, then we divide the seasonal values, then we restore towards the original scale by taking the exponential."
   ]
  },
  {
   "cell_type": "code",
   "execution_count": null,
   "id": "e1968151",
   "metadata": {},
   "outputs": [],
   "source": [
    "# Divide the series by the seasonal values from the time series decomposition\n",
    "\n",
    "deseasonalized = df['value'] / result_mul.seasonal # result_add.seasonal if using additive time series decomposition\n",
    "plt.plot(deseasonalized)"
   ]
  },
  {
   "cell_type": "markdown",
   "id": "ff1134f9",
   "metadata": {},
   "source": [
    "### Auto Correlation and Partial Auto Correlation Functions"
   ]
  },
  {
   "cell_type": "markdown",
   "id": "1bed64b8",
   "metadata": {},
   "source": [
    "To identify which lags have significant correlations, or to understand better the patterns of the time series, or to assess the randomness or stationarity of the series, or to determine trends and seasonal patterns, we use an autocorrelation function. An autocorrelation function(ACF) calculates the correlation between current points on the time series with previous lags. Thus, if we calculate the autocorrelation of lag 1, then we calculate the correlation between the current point and the previous point. If the absolute value of the correlation is higher than the statistically significant threshold, then it follows that there is a significant correlation between that particular lag and the current point. If the correlation is lower, then it follows that the value related to its lag is random."
   ]
  },
  {
   "cell_type": "markdown",
   "id": "0aa967b8",
   "metadata": {},
   "source": [
    "Partial autocorrelation functions are different from autocorrelation functions in the sense that PACFs calculate the direct correlation between the lag and the current value, disregarding the indirect correlations in between the lag and the current value, which the ACF considers indirect correlations. "
   ]
  },
  {
   "cell_type": "code",
   "execution_count": 11,
   "id": "0c523698",
   "metadata": {},
   "outputs": [
    {
     "data": {
      "image/png": "[encoded data removed]",
      "text/plain": [
       "<Figure size 1200x600 with 2 Axes>"
      ]
     },
     "metadata": {},
     "output_type": "display_data"
    }
   ],
   "source": [
    "from statsmodels.tsa.stattools import acf, pacf\n",
    "from statsmodels.graphics.tsaplots import plot_acf, plot_pacf\n",
    "\n",
    "# Graph acf and pacf functions\n",
    "\n",
    "fig, axes = plt.subplots(1,2,figsize=(12, 6))\n",
    "x = [22, 24, 25, 25, 28, 29, 34, 37, 40, 44, 51, 48, 47, 50, 51]\n",
    "plot_acf(x, lags=5, ax=axes[0])\n",
    "plot_pacf(x, lags=5, ax=axes[1])\n",
    "plt.show()"
   ]
  },
  {
   "cell_type": "code",
   "execution_count": null,
   "id": "c76b9261",
   "metadata": {},
   "outputs": [],
   "source": []
  }
 ],
 "metadata": {
  "kernelspec": {
   "display_name": "Python 3 (ipykernel)",
   "language": "python",
   "name": "python3"
  },
  "language_info": {
   "codemirror_mode": {
    "name": "ipython",
    "version": 3
   },
   "file_extension": ".py",
   "mimetype": "text/x-python",
   "name": "python",
   "nbconvert_exporter": "python",
   "pygments_lexer": "ipython3",
   "version": "3.11.5"
  }
 },
 "nbformat": 4,
 "nbformat_minor": 5
}
