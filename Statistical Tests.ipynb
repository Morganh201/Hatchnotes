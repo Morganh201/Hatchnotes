{
 "cells": [
  {
   "cell_type": "markdown",
   "id": "c842397e",
   "metadata": {},
   "source": [
    "# Statistical Tests"
   ]
  },
  {
   "cell_type": "markdown",
   "id": "139fae46",
   "metadata": {},
   "source": [
    "An important part of feature engineering and feature selection is analyzing the relationship between variables, such that we can implement only the important features into our machine learning model. To analyze the relationship between two or more variables, we implement statistical tests. For each statistical test, there are two outputs: a measurement, usually between -1 and 1, that measures the relationship between the variables, and a p-value, which describes the probability of the measurement being true if the null hypothesis is true, meaning that there exists no relationship between the variables. In other words, if we have a p-value of 0.2, then there is a 20 percent chance that the statistical test gives this result if there exists no relationship between the variables. The norm is that if we have a p-value < 0.05, then it follows that the statistical test is significant, while p-values lower than that means that the statistical test is invalid, as there is a likelyhood that the test is not valid."
   ]
  },
  {
   "cell_type": "markdown",
   "id": "28715c34",
   "metadata": {},
   "source": [
    "## Parametric Tests"
   ]
  },
  {
   "cell_type": "markdown",
   "id": "266882dc",
   "metadata": {},
   "source": [
    "There are assumptions that must be met when implementing parametric tests: The observations from the data must be independent, the variance between each group must be similar, and the data in each group must follow a normal-like distribution. Most data will not follow such assumptions, that's why we should apply transformating techniques such that these tests become valid. Otherwise, it would be better if a non-parametric test is used."
   ]
  },
  {
   "cell_type": "markdown",
   "id": "53e1e2c9",
   "metadata": {},
   "source": [
    "To test for normality, we can graphically check to see if the distributions of each group follows a normal distribution using histograms and qq plots. However, if we want to be exact, we should use hypothesis tests. One such test is the Shapiro-Wilk test. Its null hypothesis is that the sample is from the normal distribution, and its alternate hypothesis is that the sample says otherwise."
   ]
  },
  {
   "cell_type": "code",
   "execution_count": 24,
   "id": "afd10b36",
   "metadata": {},
   "outputs": [
    {
     "data": {
      "text/plain": [
       "0.3728526532649994"
      ]
     },
     "execution_count": 24,
     "metadata": {},
     "output_type": "execute_result"
    }
   ],
   "source": [
    "import numpy as np\n",
    "from numpy.random import randn\n",
    "import scipy.stats as stats\n",
    "\n",
    "data = randn(5000)\n",
    "f, p = stats.shapiro(data)\n",
    "p"
   ]
  },
  {
   "cell_type": "markdown",
   "id": "88a1ac91",
   "metadata": {},
   "source": [
    "To test for homogenity of variances, we use Bartlett's test and see if the value outputted from the test is lower than the critical value, if the data is normal-like. It follows that the null hypothesis would be that the variables have equal variance, while the alternate hypothesis says otherwise(This is a hypothesis test, thus the p-value is the only value that matters)."
   ]
  },
  {
   "cell_type": "code",
   "execution_count": 11,
   "id": "6a2f3d70",
   "metadata": {},
   "outputs": [
    {
     "data": {
      "text/plain": [
       "0.15166301835959678"
      ]
     },
     "execution_count": 11,
     "metadata": {},
     "output_type": "execute_result"
    }
   ],
   "source": [
    "import pandas as pd\n",
    "\n",
    "p1 = [89, 89, 88, 78, 79]\n",
    "p2 = [93, 92, 94, 89, 88]\n",
    "p3 = [89, 88, 89, 93, 90]\n",
    "p4 = [81, 78, 81, 92, 82]\n",
    "\n",
    "_, p = stats.bartlett(p1, p2, p3, p4)\n",
    "p"
   ]
  },
  {
   "cell_type": "markdown",
   "id": "ccffe0db",
   "metadata": {},
   "source": [
    "If the data in each group is not normally distributed, then we can use a more robust method called the Levene's test. The same hypothesis can be made here."
   ]
  },
  {
   "cell_type": "code",
   "execution_count": 12,
   "id": "f177582c",
   "metadata": {},
   "outputs": [
    {
     "data": {
      "text/plain": [
       "0.5846671108816857"
      ]
     },
     "execution_count": 12,
     "metadata": {},
     "output_type": "execute_result"
    }
   ],
   "source": [
    "_, p = stats.levene(p1, p2, p3, p4)\n",
    "p"
   ]
  },
  {
   "cell_type": "markdown",
   "id": "60609b0f",
   "metadata": {},
   "source": [
    "To measure the relationship between a nominal variable that has more than 2 groups and a continuous variable, we most commonly use the ANOVA test, which analyzes the difference of mean values of the variables among the different groups that are part of the nominal variable. The ANOVA test uses the F-statistic, which is the value of dividing the Mean Squares Treatment and the Mean Squares Error. In other words, F-value = variation between sample means / variation within the samples. The higher the F-value, the more significant the relationship."
   ]
  },
  {
   "cell_type": "code",
   "execution_count": 26,
   "id": "8715e82e",
   "metadata": {},
   "outputs": [
    {
     "name": "stdout",
     "output_type": "stream",
     "text": [
      "4.625000000000002\n",
      "p-value:  0.016336459839780215\n"
     ]
    }
   ],
   "source": [
    "f, p = stats.f_oneway(p1, p2, p3, p4)\n",
    "print(f)\n",
    "print(\"p-value: \", p)"
   ]
  },
  {
   "cell_type": "markdown",
   "id": "0d57bbd4",
   "metadata": {},
   "source": [
    "## Non-Parametric Tests"
   ]
  },
  {
   "cell_type": "markdown",
   "id": "008e6aef",
   "metadata": {},
   "source": []
  }
 ],
 "metadata": {
  "kernelspec": {
   "display_name": "Python 3 (ipykernel)",
   "language": "python",
   "name": "python3"
  },
  "language_info": {
   "codemirror_mode": {
    "name": "ipython",
    "version": 3
   },
   "file_extension": ".py",
   "mimetype": "text/x-python",
   "name": "python",
   "nbconvert_exporter": "python",
   "pygments_lexer": "ipython3",
   "version": "3.11.5"
  }
 },
 "nbformat": 4,
 "nbformat_minor": 5
}
